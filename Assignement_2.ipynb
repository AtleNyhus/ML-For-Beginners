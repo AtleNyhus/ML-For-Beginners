{
 "cells": [
  {
   "cell_type": "markdown",
   "metadata": {},
   "source": [
    "#2.1 Linear Regression with Scikit-learn on Linnerud dataset"
   ]
  },
  {
   "cell_type": "code",
   "execution_count": 164,
   "metadata": {},
   "outputs": [],
   "source": [
    "import sklearn\n",
    "import matplotlib.pyplot as plt\n",
    "import numpy as np\n",
    "import pandas as pd"
   ]
  },
  {
   "cell_type": "code",
   "execution_count": 165,
   "metadata": {},
   "outputs": [
    {
     "name": "stdout",
     "output_type": "stream",
     "text": [
      "(20, 3)\n",
      "(20, 3)\n",
      "(20,)\n",
      "(20,)\n"
     ]
    }
   ],
   "source": [
    "data, target = sklearn.datasets.load_linnerud(return_X_y=True)\n",
    "print(data.shape)\n",
    "print(target.shape)\n",
    "\n",
    "situps = data[:,1]\n",
    "print(situps.shape)\n",
    "waist = target[:,1]\n",
    "print(waist.shape)"
   ]
  },
  {
   "cell_type": "code",
   "execution_count": 166,
   "metadata": {},
   "outputs": [],
   "source": [
    "model = sklearn.linear_model.LinearRegression()\n",
    "situps_train, situps_test, waist_train, waist_test = sklearn.model_selection.train_test_split(situps, waist, test_size=0.33)\n",
    "situps_train = situps_train.reshape(-1,1)\n",
    "situps_test = situps_test.reshape(-1,1)\n",
    "model.fit(situps_train, waist_train)\n",
    "waist_pred = model.predict(situps_test)\n",
    "\n",
    "\n",
    "\n"
   ]
  },
  {
   "cell_type": "code",
   "execution_count": 167,
   "metadata": {},
   "outputs": [
    {
     "data": {
      "image/png": "[encoded data removed]",
      "text/plain": [
       "<Figure size 432x288 with 1 Axes>"
      ]
     },
     "metadata": {
      "needs_background": "light"
     },
     "output_type": "display_data"
    }
   ],
   "source": [
    "plt.scatter(situps_test, waist_test, color='black')\n",
    "plt.plot(situps_test, waist_pred, color='blue', linewidth=3)\n",
    "\n",
    "plt.show()"
   ]
  },
  {
   "cell_type": "markdown",
   "metadata": {},
   "source": [
    "#2.2 Logistic Regression "
   ]
  },
  {
   "cell_type": "code",
   "execution_count": null,
   "metadata": {},
   "outputs": [],
   "source": []
  },
  {
   "cell_type": "markdown",
   "metadata": {},
   "source": [
    "#2.3 Digit Classification with Artificial Neural Networks"
   ]
  }
 ],
 "metadata": {
  "kernelspec": {
   "display_name": "Python 3.8.5 ('base')",
   "language": "python",
   "name": "python3"
  },
  "language_info": {
   "codemirror_mode": {
    "name": "ipython",
    "version": 3
   },
   "file_extension": ".py",
   "mimetype": "text/x-python",
   "name": "python",
   "nbconvert_exporter": "python",
   "pygments_lexer": "ipython3",
   "version": "3.8.5"
  },
  "orig_nbformat": 4,
  "vscode": {
   "interpreter": {
    "hash": "e93a85c634241e6c43a8e12e95aed8312c98ffe2562d99fcc7c0d2aeaabc8b60"
   }
  }
 },
 "nbformat": 4,
 "nbformat_minor": 2
}
