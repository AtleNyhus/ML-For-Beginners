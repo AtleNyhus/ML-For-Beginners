{
 "cells": [
  {
   "cell_type": "markdown",
   "metadata": {},
   "source": [
    "# Assignement 1"
   ]
  },
  {
   "cell_type": "code",
   "execution_count": 1,
   "metadata": {},
   "outputs": [],
   "source": [
    "import pandas as pd\n",
    "import numpy as np\n",
    "import matplotlib.pyplot as plt\n",
    "from sklearn import datasets\n",
    "import sklearn\n",
    "from sklearn.linear_model import LinearRegression\n",
    "from sklearn.preprocessing import PolynomialFeatures\n",
    "from sklearn.preprocessing import PolynomialFeatures\n",
    "from sklearn.pipeline import make_pipeline\n",
    "from sklearn.linear_model import LinearRegression\n",
    "from sklearn.preprocessing import LabelEncoder"
   ]
  },
  {
   "cell_type": "markdown",
   "metadata": {},
   "source": [
    "### 2.1 Linear Regression with Scikit-learn on Linnerud dataset"
   ]
  },
  {
   "cell_type": "code",
   "execution_count": 2,
   "metadata": {},
   "outputs": [
    {
     "data": {
      "image/png": "[encoded data removed]",
      "text/plain": [
       "<Figure size 640x480 with 1 Axes>"
      ]
     },
     "metadata": {},
     "output_type": "display_data"
    },
    {
     "name": "stdout",
     "output_type": "stream",
     "text": [
      "Mean-squared error is:  2.3977141782134432\n"
     ]
    }
   ],
   "source": [
    "# import linnerude dataset\n",
    "df = sklearn.datasets.load_linnerud()\n",
    "\n",
    "# Waistline and situps acomplished\n",
    "waistline = df.data[:,1]\n",
    "situps = df.target[:,1]\n",
    "\n",
    "\n",
    "#Reshape the data\n",
    "waistline = waistline.reshape(-1,1)\n",
    "situps = situps.reshape(-1,1)\n",
    "\n",
    "# create a regression model\n",
    "model = LinearRegression()\n",
    "\n",
    "# Splits the data into training and testing sets\n",
    "waist_train, waist_test, situps_train, situps_test = sklearn.model_selection.train_test_split(waistline,situps,test_size=0.2)\n",
    "\n",
    "# Fit the model\n",
    "model.fit(waist_train,situps_train)\n",
    "\n",
    "# Predict the model\n",
    "situps_predict = model.predict(waist_test)\n",
    "\n",
    "#Plot the relationship between waistline and situps\n",
    "plt.scatter(waist_train,situps_train)\n",
    "plt.plot(waist_test,situps_predict)\n",
    "plt.xlabel('Waistline')\n",
    "plt.ylabel('Situps')\n",
    "plt.show()\n",
    "\n",
    "#  Mean-squared error is\n",
    "print('Mean-squared error is: ',sklearn.metrics.mean_squared_error(situps_test,situps_predict))\n",
    "\n"
   ]
  },
  {
   "cell_type": "code",
   "execution_count": 3,
   "metadata": {},
   "outputs": [
    {
     "data": {
      "text/plain": [
       "<bound method DataFrame.info of       City Name  Package  Variety  Low Price  High Price  Origin  Item Size  \\\n",
       "2             1        3        4         29          26       3          3   \n",
       "3             1        3        4         29          26      17          3   \n",
       "4             1        3        4         16          14       5          2   \n",
       "5             1        3        4         16          14       5          2   \n",
       "6             1        4        4         29          28       5          3   \n",
       "...         ...      ...      ...        ...         ...     ...        ...   \n",
       "1694         12        3        5         27          23       4          6   \n",
       "1695         12        3        5         27          23       4          6   \n",
       "1696         12        3        5         27          23       4          6   \n",
       "1697         12        3        5         27          23       4          6   \n",
       "1698         12        3        5         27          23       4          6   \n",
       "\n",
       "      Color  \n",
       "2         0  \n",
       "3         0  \n",
       "4         0  \n",
       "5         0  \n",
       "6         0  \n",
       "...     ...  \n",
       "1694      1  \n",
       "1695      1  \n",
       "1696      1  \n",
       "1697      1  \n",
       "1698      1  \n",
       "\n",
       "[991 rows x 8 columns]>"
      ]
     },
     "execution_count": 3,
     "metadata": {},
     "output_type": "execute_result"
    }
   ],
   "source": [
    "# Import the pumpkin dataset\n",
    "pumpkins = pd.read_csv('US-pumpkins copy.csv')\n",
    "\n",
    "new_columns = ['Color','Origin','Item Size','Variety','City Name','Package','High Price','Low Price']\n",
    "\n",
    "new_pumpkins = pumpkins.drop([c for c in pumpkins.columns if c not in new_columns], axis=1)\n",
    "\n",
    "new_pumpkins.dropna(inplace=True)\n",
    "\n",
    "new_pumpkins = new_pumpkins.apply(LabelEncoder().fit_transform)\n",
    "\n",
    "\n",
    "new_pumpkins.info\n"
   ]
  },
  {
   "cell_type": "code",
   "execution_count": 4,
   "metadata": {},
   "outputs": [
    {
     "name": "stdout",
     "output_type": "stream",
     "text": [
      "confusion_matrix is:  [[161   0]\n",
      " [ 38   0]]\n"
     ]
    },
    {
     "name": "stderr",
     "output_type": "stream",
     "text": [
      "c:\\Users\\atlen\\anaconda3\\lib\\site-packages\\seaborn\\_decorators.py:36: FutureWarning: Pass the following variables as keyword args: x, y. From version 0.12, the only valid positional argument will be `data`, and passing other arguments without an explicit keyword will result in an error or misinterpretation.\n",
      "  warnings.warn(\n",
      "c:\\Users\\atlen\\anaconda3\\lib\\site-packages\\seaborn\\_decorators.py:36: FutureWarning: Pass the following variables as keyword args: x, y. From version 0.12, the only valid positional argument will be `data`, and passing other arguments without an explicit keyword will result in an error or misinterpretation.\n",
      "  warnings.warn(\n"
     ]
    },
    {
     "data": {
      "text/plain": [
       "<AxesSubplot:>"
      ]
     },
     "execution_count": 4,
     "metadata": {},
     "output_type": "execute_result"
    },
    {
     "data": {
      "image/png": "[encoded data removed]",
      "text/plain": [
       "<Figure size 640x480 with 1 Axes>"
      ]
     },
     "metadata": {},
     "output_type": "display_data"
    }
   ],
   "source": [
    "from sklearn.metrics import confusion_matrix\n",
    "import seaborn as sns\n",
    "from sklearn.metrics import roc_curve, roc_auc_score\n",
    "\n",
    "Selected_features = ['Origin','Item Size','Variety','Package','Low Price', 'City Name', 'High Price']\n",
    "\n",
    "X = new_pumpkins[Selected_features]\n",
    "y = new_pumpkins['Color']\n",
    "\n",
    "# Split the data into training and testing sets\n",
    "X_train, X_test, y_train, y_test = sklearn.model_selection.train_test_split(X,y,test_size=0.2)\n",
    "\n",
    "# Create the model\n",
    "model = sklearn.linear_model.LogisticRegression()\n",
    "\n",
    "# Fit the model\n",
    "model.fit(X_train,y_train)\n",
    "prediction = model.predict(X_test)\n",
    "\n",
    "# Confusion matrix\n",
    "print('confusion_matrix is: ',confusion_matrix(y_test,prediction))\n",
    "\n",
    "\n",
    "y_scores = model.predict_proba(X_test)\n",
    "# calculate ROC curve\n",
    "fpr, tpr, thresholds = roc_curve(y_test, y_scores[:,1])\n",
    "sns.lineplot([0, 1], [0, 1])\n",
    "sns.lineplot(fpr, tpr)\n"
   ]
  },
  {
   "cell_type": "markdown",
   "metadata": {},
   "source": [
    "### 2.3 Digit Classification with Artificial Neural Networks"
   ]
  },
  {
   "cell_type": "code",
   "execution_count": 5,
   "metadata": {},
   "outputs": [],
   "source": [
    "import warnings\n",
    "from sklearn.datasets import fetch_openml\n",
    "from sklearn.exceptions import ConvergenceWarning\n",
    "from sklearn.neural_network import MLPClassifier"
   ]
  },
  {
   "cell_type": "code",
   "execution_count": 6,
   "metadata": {},
   "outputs": [],
   "source": [
    "# Fetch the dataset\n",
    "X, y = fetch_openml(\"mnist_784\", version=1, return_X_y=True)\n",
    "X = X/255.0"
   ]
  },
  {
   "cell_type": "code",
   "execution_count": 7,
   "metadata": {},
   "outputs": [],
   "source": [
    "# Split the data into training and testing sets, with a ratio of 60'000:10'000\n",
    "X_train, X_test = X[:60000], X[60000:]\n",
    "y_train, y_test = y[:60000], y[60000:]"
   ]
  },
  {
   "cell_type": "code",
   "execution_count": 13,
   "metadata": {},
   "outputs": [],
   "source": [
    "# set up MLP Classifier\n",
    "mlp = MLPClassifier(\n",
    "    hidden_layer_sizes=(50,),\n",
    "    max_iter=15,\n",
    "    alpha=1e-4,\n",
    "    solver=\"sgd\",\n",
    "    verbose=True,\n",
    "    random_state=10,\n",
    "    learning_rate_init=0.1\n",
    ")"
   ]
  },
  {
   "cell_type": "code",
   "execution_count": 14,
   "metadata": {},
   "outputs": [
    {
     "name": "stdout",
     "output_type": "stream",
     "text": [
      "Iteration 1, loss = 0.32202861\n",
      "Iteration 2, loss = 0.14817606\n",
      "Iteration 3, loss = 0.11088751\n",
      "Iteration 4, loss = 0.09059038\n",
      "Iteration 5, loss = 0.07639721\n",
      "Iteration 6, loss = 0.06802425\n",
      "Iteration 7, loss = 0.06006656\n",
      "Iteration 8, loss = 0.05351314\n",
      "Iteration 9, loss = 0.04812838\n",
      "Iteration 10, loss = 0.04470405\n",
      "Iteration 11, loss = 0.04060422\n",
      "Iteration 12, loss = 0.03568328\n",
      "Iteration 13, loss = 0.03277231\n",
      "Iteration 14, loss = 0.03009950\n",
      "Iteration 15, loss = 0.02751663\n"
     ]
    }
   ],
   "source": [
    "# We probably won't converge so we'll catch the warnings\n",
    "with warnings.catch_warnings():\n",
    "    warnings.filterwarnings(\"ignore\", category=ConvergenceWarning, module=\"sklearn\")\n",
    "    mlp.fit(X_train, y_train)"
   ]
  },
  {
   "cell_type": "code",
   "execution_count": 15,
   "metadata": {},
   "outputs": [
    {
     "name": "stdout",
     "output_type": "stream",
     "text": [
      "Training set score: 0.99045\n",
      "Test set score: 0.9695\n"
     ]
    }
   ],
   "source": [
    "# print out the model scores\n",
    "print(f\"Training set score: {mlp.score(X_train, y_train)}\")\n",
    "print(f\"Test set score: {mlp.score(X_test, y_test)}\")"
   ]
  },
  {
   "cell_type": "markdown",
   "metadata": {},
   "source": [
    "We could make the model better by training the model with more iterations. We must however be carefull to not overfit the model!\n",
    "We could also try and tune the hyperparameters"
   ]
  }
 ],
 "metadata": {
  "kernelspec": {
   "display_name": "Python 3.9.7 ('base')",
   "language": "python",
   "name": "python3"
  },
  "language_info": {
   "codemirror_mode": {
    "name": "ipython",
    "version": 3
   },
   "file_extension": ".py",
   "mimetype": "text/x-python",
   "name": "python",
   "nbconvert_exporter": "python",
   "pygments_lexer": "ipython3",
   "version": "3.9.7"
  },
  "orig_nbformat": 4,
  "vscode": {
   "interpreter": {
    "hash": "3f0e58e48e5f04ce07218351a928187b8c04b236fc5883e8805bba31c4d6881c"
   }
  }
 },
 "nbformat": 4,
 "nbformat_minor": 2
}
